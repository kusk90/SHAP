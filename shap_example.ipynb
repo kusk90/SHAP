{
 "cells": [
  {
   "cell_type": "code",
   "execution_count": 1,
   "metadata": {
    "scrolled": true
   },
   "outputs": [],
   "source": [
    "import sys\n",
    "# !{sys.executable} -m pip install --upgrade pip --user\n",
    "# !{sys.executable} -m pip install h2o==3.24.0.5"
   ]
  },
  {
   "cell_type": "code",
   "execution_count": 1,
   "metadata": {},
   "outputs": [
    {
     "name": "stdout",
     "output_type": "stream",
     "text": [
      "current work director:  C:\\Users\\I25765\\OneDrive - Verisk Analytics\\Documents\\Projects\\RACA Symbol Liab Model\\RACA_Prod\\TTT_scp\\AWS_TEST\\SHAP\n",
      "starting counter\n",
      "Tue Aug 20 07:12:11 2019\n"
     ]
    }
   ],
   "source": [
    "import gc\n",
    "# import resource\n",
    "import datetime\n",
    "import pandas as pd\n",
    "import numpy as np\n",
    "import h2o\n",
    "import seaborn as sns\n",
    "import matplotlib.pyplot as plt\n",
    "%matplotlib inline\n",
    "\n",
    "pd.set_option('display.max_colwidth', -1)\n",
    "\n",
    "import os\n",
    "cwd = os.getcwd()\n",
    "print(\"current work director: \", cwd)\n",
    "# cwd\n",
    "\n",
    "import time\n",
    "\n",
    "startcnt = time.time()\n",
    "start = datetime.datetime.fromtimestamp(startcnt-14400).strftime('%c')\n",
    "print(\"starting counter\")\n",
    "print(start)"
   ]
  },
  {
   "cell_type": "code",
   "execution_count": 2,
   "metadata": {},
   "outputs": [
    {
     "name": "stdout",
     "output_type": "stream",
     "text": [
      "Checking whether there is an H2O instance running at http://localhost:54321 ..... not found.\n",
      "Attempting to start a local H2O server...\n",
      "; Java HotSpot(TM) 64-Bit Server VM (build 25.211-b12, mixed mode)\n",
      "  Starting server from C:\\Anaconda\\lib\\site-packages\\h2o\\backend\\bin\\h2o.jar\n",
      "  Ice root: C:\\Users\\I25765\\AppData\\Local\\Temp\\tmptqtg90lg\n",
      "  JVM stdout: C:\\Users\\I25765\\AppData\\Local\\Temp\\tmptqtg90lg\\h2o_i25765_started_from_python.out\n",
      "  JVM stderr: C:\\Users\\I25765\\AppData\\Local\\Temp\\tmptqtg90lg\\h2o_i25765_started_from_python.err\n",
      "  Server is running at http://127.0.0.1:54321\n",
      "Connecting to H2O server at http://127.0.0.1:54321 ... successful.\n"
     ]
    },
    {
     "data": {
      "text/html": [
       "<div style=\"overflow:auto\"><table style=\"width:50%\"><tr><td>H2O cluster uptime:</td>\n",
       "<td>02 secs</td></tr>\n",
       "<tr><td>H2O cluster timezone:</td>\n",
       "<td>America/New_York</td></tr>\n",
       "<tr><td>H2O data parsing timezone:</td>\n",
       "<td>UTC</td></tr>\n",
       "<tr><td>H2O cluster version:</td>\n",
       "<td>3.24.0.5</td></tr>\n",
       "<tr><td>H2O cluster version age:</td>\n",
       "<td>2 months and 1 day </td></tr>\n",
       "<tr><td>H2O cluster name:</td>\n",
       "<td>H2O_from_python_i25765_w654jo</td></tr>\n",
       "<tr><td>H2O cluster total nodes:</td>\n",
       "<td>1</td></tr>\n",
       "<tr><td>H2O cluster free memory:</td>\n",
       "<td>7.667 Gb</td></tr>\n",
       "<tr><td>H2O cluster total cores:</td>\n",
       "<td>8</td></tr>\n",
       "<tr><td>H2O cluster allowed cores:</td>\n",
       "<td>8</td></tr>\n",
       "<tr><td>H2O cluster status:</td>\n",
       "<td>accepting new members, healthy</td></tr>\n",
       "<tr><td>H2O connection url:</td>\n",
       "<td>http://127.0.0.1:54321</td></tr>\n",
       "<tr><td>H2O connection proxy:</td>\n",
       "<td>None</td></tr>\n",
       "<tr><td>H2O internal security:</td>\n",
       "<td>False</td></tr>\n",
       "<tr><td>H2O API Extensions:</td>\n",
       "<td>Amazon S3, Algos, AutoML, Core V3, Core V4</td></tr>\n",
       "<tr><td>Python version:</td>\n",
       "<td>3.6.8 final</td></tr></table></div>"
      ],
      "text/plain": [
       "--------------------------  ------------------------------------------\n",
       "H2O cluster uptime:         02 secs\n",
       "H2O cluster timezone:       America/New_York\n",
       "H2O data parsing timezone:  UTC\n",
       "H2O cluster version:        3.24.0.5\n",
       "H2O cluster version age:    2 months and 1 day\n",
       "H2O cluster name:           H2O_from_python_i25765_w654jo\n",
       "H2O cluster total nodes:    1\n",
       "H2O cluster free memory:    7.667 Gb\n",
       "H2O cluster total cores:    8\n",
       "H2O cluster allowed cores:  8\n",
       "H2O cluster status:         accepting new members, healthy\n",
       "H2O connection url:         http://127.0.0.1:54321\n",
       "H2O connection proxy:\n",
       "H2O internal security:      False\n",
       "H2O API Extensions:         Amazon S3, Algos, AutoML, Core V3, Core V4\n",
       "Python version:             3.6.8 final\n",
       "--------------------------  ------------------------------------------"
      ]
     },
     "metadata": {},
     "output_type": "display_data"
    }
   ],
   "source": [
    "h2o.init(min_mem_size='8g')"
   ]
  },
  {
   "cell_type": "code",
   "execution_count": 13,
   "metadata": {},
   "outputs": [
    {
     "name": "stdout",
     "output_type": "stream",
     "text": [
      "read time - training ds:  73\n"
     ]
    }
   ],
   "source": [
    "# Generate SHAP value using h2o's built-in function predict_contributions()\n",
    "startread = time.time()\n",
    "\n",
    "shap_h2o = gbm_ttt_sXYY5.predict_contributions(train[x])\n",
    "\n",
    "endread = time.time()\n",
    "print(\"read time - training ds: \", round(endread - startread))"
   ]
  },
  {
   "cell_type": "code",
   "execution_count": 16,
   "metadata": {},
   "outputs": [
    {
     "data": {
      "text/plain": [
       "(253184, 57)"
      ]
     },
     "execution_count": 16,
     "metadata": {},
     "output_type": "execute_result"
    }
   ],
   "source": [
    "shap_h2o.shape"
   ]
  },
  {
   "cell_type": "code",
   "execution_count": 13,
   "metadata": {},
   "outputs": [],
   "source": [
    "df_shap_h2o = shap_h2o"
   ]
  },
  {
   "cell_type": "code",
   "execution_count": 16,
   "metadata": {},
   "outputs": [
    {
     "name": "stdout",
     "output_type": "stream",
     "text": [
      "read time - training ds:  2\n"
     ]
    }
   ],
   "source": [
    "startread = time.time()\n",
    "\n",
    "col_less_than_5 = []\n",
    "for col in [x for x in shap_h2o.columns if x in cat]:\n",
    "    if len(train[col].table()) <=5:\n",
    "        col_less_than_5.append(col)\n",
    "        \n",
    "endread = time.time()\n",
    "print(\"read time - training ds: \", round(endread - startread))"
   ]
  },
  {
   "cell_type": "code",
   "execution_count": 17,
   "metadata": {},
   "outputs": [],
   "source": [
    "# Generate variable importance order\n",
    "df_shap_value_order = df_shap_h2o.abs().mean(axis=0,return_frame=True).as_data_frame().drop('abs(BiasTerm)',axis=1)\n",
    "col_name_abs = df_shap_value_order.stack().sort_values(ascending=False)[0].index.tolist()\n",
    "#col_name_abs_updated = [x for x in col_name_abs if ('.n)' not in x and '.N)' not in x)]"
   ]
  },
  {
   "cell_type": "code",
   "execution_count": 18,
   "metadata": {},
   "outputs": [],
   "source": [
    "#Get Top () variables\n",
    "top = 15 ######## pleasure specify number of top variables\n",
    "shap_value_order = [x[4:-1] for x in col_name_abs if x[4:-1] not in list(set(cat) - set(col_less_than_5))][:top]"
   ]
  },
  {
   "cell_type": "code",
   "execution_count": 19,
   "metadata": {},
   "outputs": [
    {
     "data": {
      "text/html": [
       "['cko_max_gvwcf', 'cko_max_msrp', 'cko_wheelbase_meanf', 'cko_eng_disp_mean', 'ENG_DISPLCMNT_CI', 'cko_max_gvwc', 'cko_wheelbase_mean', 'cko_turbo_super', 'TRK_REAR_AXL_CD', 'cko_dtrl', 'WHL_DRVN_CNTf', 'SHIP_WGHT_LBS', 'cko_weight_max', 'TRK_BED_LEN_CD', 'cko_fuel']"
      ],
      "text/plain": [
       "['cko_max_gvwcf',\n",
       " 'cko_max_msrp',\n",
       " 'cko_wheelbase_meanf',\n",
       " 'cko_eng_disp_mean',\n",
       " 'ENG_DISPLCMNT_CI',\n",
       " 'cko_max_gvwc',\n",
       " 'cko_wheelbase_mean',\n",
       " 'cko_turbo_super',\n",
       " 'TRK_REAR_AXL_CD',\n",
       " 'cko_dtrl',\n",
       " 'WHL_DRVN_CNTf',\n",
       " 'SHIP_WGHT_LBS',\n",
       " 'cko_weight_max',\n",
       " 'TRK_BED_LEN_CD',\n",
       " 'cko_fuel']"
      ]
     },
     "execution_count": 19,
     "metadata": {},
     "output_type": "execute_result"
    }
   ],
   "source": [
    "shap_value_order"
   ]
  },
  {
   "cell_type": "code",
   "execution_count": 25,
   "metadata": {},
   "outputs": [
    {
     "name": "stdout",
     "output_type": "stream",
     "text": [
      "read time - training ds:  4\n"
     ]
    }
   ],
   "source": [
    "# Convert to Pandas Dataframe\n",
    "startread = time.time()\n",
    "\n",
    "df_shap = df_shap_h2o[shap_value_order].as_data_frame().iloc[filtered_index,]\n",
    "\n",
    "endread = time.time()\n",
    "print(\"read time - training ds: \", round(endread - startread))"
   ]
  },
  {
   "cell_type": "code",
   "execution_count": 27,
   "metadata": {},
   "outputs": [
    {
     "name": "stdout",
     "output_type": "stream",
     "text": [
      "read time - training ds:  1\n"
     ]
    }
   ],
   "source": [
    "# Convert to Pandas Dataframe\n",
    "startread = time.time()\n",
    "\n",
    "df = train[shap_value_order].as_data_frame().iloc[filtered_index,]\n",
    "\n",
    "endread = time.time()\n",
    "print(\"read time - training ds: \", round(endread - startread))"
   ]
  },
  {
   "cell_type": "code",
   "execution_count": 69,
   "metadata": {},
   "outputs": [],
   "source": [
    "# Sample some data in order to speed up calculation\n",
    "df_sampled = df#.sample(n=20000, random_state=1337)\n",
    "df_shap_sampled = df_shap#.sample(n=20000, random_state=1337)"
   ]
  },
  {
   "cell_type": "code",
   "execution_count": 70,
   "metadata": {},
   "outputs": [],
   "source": [
    "# Reshape for train dataset\n",
    "reshape_df = df_sampled.stack(dropna=False).reset_index().iloc[:,1:]\n",
    "reshape_df.columns = ['col_name', 'value']\n",
    "\n",
    "# Reshape for SHAP dataset\n",
    "reshape_df_shap = df_shap_sampled.stack(dropna=False).reset_index().iloc[:,1:]\n",
    "reshape_df_shap.columns = ['col_name', 'shap_value']\n",
    "\n",
    "#Join reshape_df and reshape_df_shap together\n",
    "new_df = reshape_df.join(reshape_df_shap['shap_value'])"
   ]
  },
  {
   "cell_type": "code",
   "execution_count": 71,
   "metadata": {},
   "outputs": [
    {
     "data": {
      "text/plain": [
       "1643310"
      ]
     },
     "execution_count": 71,
     "metadata": {},
     "output_type": "execute_result"
    }
   ],
   "source": [
    "len(new_df)"
   ]
  },
  {
   "cell_type": "code",
   "execution_count": 119,
   "metadata": {},
   "outputs": [],
   "source": [
    "# Sample some data in order to speed up calculation\n",
    "new_df_sampled = new_df.sample(n=50000,random_state=1)"
   ]
  },
  {
   "cell_type": "code",
   "execution_count": null,
   "metadata": {},
   "outputs": [],
   "source": [
    "# Generate Shap Chart\n",
    "startread = time.time()\n",
    "\n",
    "n_cols = len(shap_value_order)\n",
    "#sns.set(font_scale=1.5) # Adjust the font size\n",
    "fig, axs = plt.subplots(nrows=n_cols,figsize=(15,36))\n",
    "fig.subplots_adjust(hspace=0.4)\n",
    "\n",
    "i=0\n",
    "for col in shap_value_order:\n",
    "    \n",
    "    if col not in cat:\n",
    "        d = new_df_sampled[new_df_sampled['col_name'] == col]\n",
    "        palette = sns.color_palette(\"coolwarm\", n_colors=d['value'].nunique())\n",
    "        g = sns.swarmplot(y=d['col_name'], ax=axs[i], x=d['shap_value'], hue=d['value'], palette=palette, dodge=False, size=2)\n",
    "        g.legend_.remove()\n",
    "    else:\n",
    "        d = new_df_sampled[new_df_sampled['col_name'] == col]\n",
    "        palette = sns.color_palette(\"bright\", n_colors=d['value'].nunique())\n",
    "        g = sns.swarmplot(y=d['col_name'], ax=axs[i], x=d['shap_value'], hue_order = list(d['value'].sort_values().unique()), hue=d['value'], palette=palette, dodge=False, size=2)\n",
    "    axs[i].set_xlim(-0.5,0.5)\n",
    "    axs[i].set(title=col)\n",
    "    axs[i].set(ylabel = '')\n",
    "    axs[i].set(xlabel = '')\n",
    "    axs[i].get_yaxis().set_visible(False)\n",
    "    i+=1\n",
    "\n",
    "axs[n_cols-1].set(xlabel = 'SHAP value')\n",
    "plt.savefig('SHAP_chart.png')\n",
    "\n",
    "sns.palplot(sns.color_palette(\"coolwarm\", 15))            \n",
    "plt.xlabel('Low ------------------------------------------------------------------------ Feature Value ------------------------------------------------------------------------ High')\n",
    " \n",
    "endread = time.time()\n",
    "print(\"read time - training ds: \", round(endread - startread))"
   ]
  },
  {
   "cell_type": "code",
   "execution_count": null,
   "metadata": {},
   "outputs": [],
   "source": [
    "h2o.cluster().shutdown()"
   ]
  }
 ],
 "metadata": {
  "kernelspec": {
   "display_name": "Python 3",
   "language": "python",
   "name": "python3"
  },
  "language_info": {
   "codemirror_mode": {
    "name": "ipython",
    "version": 3
   },
   "file_extension": ".py",
   "mimetype": "text/x-python",
   "name": "python",
   "nbconvert_exporter": "python",
   "pygments_lexer": "ipython3",
   "version": "3.6.5"
  }
 },
 "nbformat": 4,
 "nbformat_minor": 2
}
